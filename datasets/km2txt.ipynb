{
 "cells": [
  {
   "cell_type": "code",
   "execution_count": 1,
   "id": "16ea2941",
   "metadata": {},
   "outputs": [],
   "source": [
    "import glob\n",
    "import numpy as np\n",
    "import os\n",
    "from os.path import basename, join, dirname\n",
    "import librosa"
   ]
  },
  {
   "cell_type": "code",
   "execution_count": 9,
   "id": "6eeb0ff4",
   "metadata": {},
   "outputs": [
    {
     "name": "stdout",
     "output_type": "stream",
     "text": [
      "43873\n"
     ]
    }
   ],
   "source": [
    "# for not yet split! skip if split exits\n",
    "\n",
    "# FILL!\n",
    "audio_dir = \"/Users/junkaiwu/Desktop/Junkai/uiuc/dataset/DS_10283_3443/VCTK-Corpus-0.92/wav16_silence_trimmed_padded\"\n",
    "all_audios = librosa.util.find_files(audio_dir, recurse=True)\n",
    "print(len(all_audios))"
   ]
  },
  {
   "cell_type": "code",
   "execution_count": 12,
   "id": "18591aad",
   "metadata": {},
   "outputs": [],
   "source": [
    "# FILL!\n",
    "test = 2000\n",
    "val = 1000\n",
    "train = len(all_audios) - test - val"
   ]
  },
  {
   "cell_type": "code",
   "execution_count": 11,
   "id": "fcb797bb",
   "metadata": {},
   "outputs": [],
   "source": [
    "all_audios.sort()\n",
    "np.random.seed(1888)\n",
    "np.random.shuffle(all_audios)\n",
    "\n",
    "train_audios = all_audios[:train]\n",
    "val_audios = all_audios[train:train + val]\n",
    "test_audios = all_audios[train+val:]"
   ]
  },
  {
   "cell_type": "code",
   "execution_count": 13,
   "id": "2274664b",
   "metadata": {},
   "outputs": [],
   "source": [
    "# Prepare dictionary!"
   ]
  },
  {
   "cell_type": "code",
   "execution_count": 24,
   "id": "4ee756f2",
   "metadata": {},
   "outputs": [],
   "source": [
    "# split already exits!\n",
    "\n",
    "# FILL!\n",
    "train_txt = \"LJSpeech/hubert/train200.txt\"\n",
    "val_txt = \"LJSpeech/hubert/val200.txt\"\n",
    "test_txt = \"LJSpeech/hubert/test200.txt\"\n",
    "\n",
    "split_txt = {\"train\": train_txt, \"val\": val_txt, \"test\": test_txt}\n",
    "\n",
    "vocab_size = 500\n",
    "km_path = \"/Users/junkaiwu/Desktop/Junkai/uiuc/Speech/hubert_l6_v500.km\"\n",
    "out_dir = \"LJSpeech/hubert\"\n",
    "feature_type = \"hubert\""
   ]
  },
  {
   "cell_type": "code",
   "execution_count": 25,
   "id": "6eac9066",
   "metadata": {},
   "outputs": [],
   "source": [
    "audio2unit = {}\n",
    "with open(km_path, \"r\") as f:\n",
    "    for line in f:\n",
    "        audio2unit[line.split(\"|\")[0]] = line.split(\"|\")[1].strip(\"\\n\")"
   ]
  },
  {
   "cell_type": "code",
   "execution_count": 26,
   "id": "8d78cef1",
   "metadata": {},
   "outputs": [
    {
     "ename": "KeyError",
     "evalue": "'LJ001-0006'",
     "output_type": "error",
     "traceback": [
      "\u001b[0;31m---------------------------------------------------------------------------\u001b[0m",
      "\u001b[0;31mKeyError\u001b[0m                                  Traceback (most recent call last)",
      "Input \u001b[0;32mIn [26]\u001b[0m, in \u001b[0;36m<cell line: 1>\u001b[0;34m()\u001b[0m\n\u001b[1;32m      5\u001b[0m     \u001b[38;5;28;01mfor\u001b[39;00m line \u001b[38;5;129;01min\u001b[39;00m f:\n\u001b[1;32m      6\u001b[0m         ud \u001b[38;5;241m=\u001b[39m \u001b[38;5;28meval\u001b[39m(line\u001b[38;5;241m.\u001b[39mstrip(\u001b[38;5;124m\"\u001b[39m\u001b[38;5;130;01m\\n\u001b[39;00m\u001b[38;5;124m\"\u001b[39m))\n\u001b[0;32m----> 7\u001b[0m         ud[feature_type] \u001b[38;5;241m=\u001b[39m \u001b[43maudio2unit\u001b[49m\u001b[43m[\u001b[49m\u001b[43mud\u001b[49m\u001b[43m[\u001b[49m\u001b[38;5;124;43m\"\u001b[39;49m\u001b[38;5;124;43maudio\u001b[39;49m\u001b[38;5;124;43m\"\u001b[39;49m\u001b[43m]\u001b[49m\u001b[43m]\u001b[49m\n\u001b[1;32m      8\u001b[0m         w_f\u001b[38;5;241m.\u001b[39mwrite(\u001b[38;5;28mstr\u001b[39m(ud) \u001b[38;5;241m+\u001b[39m \u001b[38;5;124m\"\u001b[39m\u001b[38;5;130;01m\\n\u001b[39;00m\u001b[38;5;124m\"\u001b[39m)\n\u001b[1;32m      9\u001b[0m w_f\u001b[38;5;241m.\u001b[39mclose()\n",
      "\u001b[0;31mKeyError\u001b[0m: 'LJ001-0006'"
     ]
    }
   ],
   "source": [
    "for split in [\"train\", \"val\", \"test\"]:\n",
    "    w_f = open(f\"{out_dir}/{split}{vocab_size}.txt\", \"w\")\n",
    "    \n",
    "    with open(split_txt[split], \"r\") as f:\n",
    "        for line in f:\n",
    "            ud = eval(line.strip(\"\\n\"))\n",
    "            ud[feature_type] = audio2unit[ud[\"audio\"]]\n",
    "            w_f.write(str(ud) + \"\\n\")\n",
    "    w_f.close()"
   ]
  },
  {
   "cell_type": "code",
   "execution_count": 28,
   "id": "f65c7d55",
   "metadata": {},
   "outputs": [],
   "source": [
    "with open(km_path, \"r\") as f:\n",
    "    for line in f:\n",
    "        print(line)"
   ]
  },
  {
   "cell_type": "code",
   "execution_count": null,
   "id": "b539a160",
   "metadata": {},
   "outputs": [],
   "source": []
  }
 ],
 "metadata": {
  "kernelspec": {
   "display_name": "AudioLab",
   "language": "python",
   "name": "audiolab"
  },
  "language_info": {
   "codemirror_mode": {
    "name": "ipython",
    "version": 3
   },
   "file_extension": ".py",
   "mimetype": "text/x-python",
   "name": "python",
   "nbconvert_exporter": "python",
   "pygments_lexer": "ipython3",
   "version": "3.8.13"
  }
 },
 "nbformat": 4,
 "nbformat_minor": 5
}
