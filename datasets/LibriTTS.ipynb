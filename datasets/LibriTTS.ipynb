{
 "cells": [
  {
   "cell_type": "code",
   "execution_count": 32,
   "id": "e42a0ad5",
   "metadata": {},
   "outputs": [],
   "source": [
    "import os\n",
    "import glob\n",
    "import librosa\n",
    "import numpy as np"
   ]
  },
  {
   "cell_type": "code",
   "execution_count": 44,
   "id": "102de364",
   "metadata": {},
   "outputs": [],
   "source": [
    "all_audios = librosa.util.find_files(\"../../../dataset/LibriTTS/LibriTTS_ORIG\", recurse=True, ext=\"wav\")"
   ]
  },
  {
   "cell_type": "code",
   "execution_count": 41,
   "id": "a8c76fe0",
   "metadata": {},
   "outputs": [],
   "source": [
    "for a in all_audios:\n",
    "    os.system(f\"cp {a} ../../../dataset/LibriTTS/LibriTTS/\")"
   ]
  },
  {
   "cell_type": "code",
   "execution_count": 53,
   "id": "fc7648cb",
   "metadata": {},
   "outputs": [],
   "source": [
    "all_audios.sort()\n",
    "np.random.shuffle(all_audios)"
   ]
  },
  {
   "cell_type": "code",
   "execution_count": 56,
   "id": "2a316de9",
   "metadata": {
    "scrolled": false
   },
   "outputs": [],
   "source": [
    "test_audios = all_audios[:10000]\n",
    "val_audios = all_audios[10000:15000]\n",
    "train_audios = all_audios[15000:]"
   ]
  },
  {
   "cell_type": "code",
   "execution_count": 73,
   "id": "a555384b",
   "metadata": {},
   "outputs": [],
   "source": [
    "for a in test_audios:\n",
    "    bname = os.path.basename(a)\n",
    "    oname = f\"../../../dataset/LibriTTS/LibriTTS_16khz/{bname}\"\n",
    "    nname = f\"../../../dataset/LibriTTS/LibriTTS_16khz_test/{bname}\"\n",
    "    \n",
    "    os.system(f\"cp \")"
   ]
  },
  {
   "cell_type": "code",
   "execution_count": 61,
   "id": "45b6cbf4",
   "metadata": {},
   "outputs": [],
   "source": [
    "w_f = open(\"LibriTTS/hubert/train.txt\", \"w\")\n",
    "\n",
    "for audio in train_audios:\n",
    "    utterance_dict = {}\n",
    "    utterance_dict[\"audio\"] = os.path.basename(audio).replace(\".wav\", \"\")\n",
    "\n",
    "    with open(audio.replace(\".wav\", \".normalized.txt\"), \"r\") as f:\n",
    "        for line in f:\n",
    "            transcription = line.replace(\"\\n\", \"\")\n",
    "            break\n",
    "    with open(audio.replace(\".wav\", \".original.txt\"), \"r\") as f:\n",
    "        for line in f:\n",
    "            transcription_raw = line.replace(\"\\n\", \"\")\n",
    "            break\n",
    "\n",
    "    utterance_dict[\"transcription\"] = transcription\n",
    "    utterance_dict[\"transcription_raw\"] = transcription_raw\n",
    "\n",
    "    w_f.write(str(utterance_dict) + \"\\n\")\n",
    "w_f.close()"
   ]
  },
  {
   "cell_type": "code",
   "execution_count": 62,
   "id": "35e958ee",
   "metadata": {},
   "outputs": [],
   "source": [
    "w_f = open(\"LibriTTS/hubert/val.txt\", \"w\")\n",
    "\n",
    "for audio in val_audios:\n",
    "    utterance_dict = {}\n",
    "    utterance_dict[\"audio\"] = os.path.basename(audio).replace(\".wav\", \"\")\n",
    "\n",
    "    with open(audio.replace(\".wav\", \".normalized.txt\"), \"r\") as f:\n",
    "        for line in f:\n",
    "            transcription = line.replace(\"\\n\", \"\")\n",
    "            break\n",
    "    with open(audio.replace(\".wav\", \".original.txt\"), \"r\") as f:\n",
    "        for line in f:\n",
    "            transcription_raw = line.replace(\"\\n\", \"\")\n",
    "            break\n",
    "\n",
    "    utterance_dict[\"transcription\"] = transcription\n",
    "    utterance_dict[\"transcription_raw\"] = transcription_raw\n",
    "\n",
    "    w_f.write(str(utterance_dict) + \"\\n\")\n",
    "w_f.close()"
   ]
  },
  {
   "cell_type": "code",
   "execution_count": 63,
   "id": "f2dd34c3",
   "metadata": {},
   "outputs": [],
   "source": [
    "w_f = open(\"LibriTTS/hubert/test.txt\", \"w\")\n",
    "\n",
    "for audio in test_audios:\n",
    "    utterance_dict = {}\n",
    "    utterance_dict[\"audio\"] = os.path.basename(audio).replace(\".wav\", \"\")\n",
    "\n",
    "    with open(audio.replace(\".wav\", \".normalized.txt\"), \"r\") as f:\n",
    "        for line in f:\n",
    "            transcription = line.replace(\"\\n\", \"\")\n",
    "            break\n",
    "    with open(audio.replace(\".wav\", \".original.txt\"), \"r\") as f:\n",
    "        for line in f:\n",
    "            transcription_raw = line.replace(\"\\n\", \"\")\n",
    "            break\n",
    "\n",
    "    utterance_dict[\"transcription\"] = transcription\n",
    "    utterance_dict[\"transcription_raw\"] = transcription_raw\n",
    "\n",
    "    w_f.write(str(utterance_dict) + \"\\n\")\n",
    "w_f.close()"
   ]
  },
  {
   "cell_type": "code",
   "execution_count": 64,
   "id": "392f8032",
   "metadata": {},
   "outputs": [],
   "source": [
    "ltts = {}\n",
    "\n",
    "for audio in all_audios:\n",
    "    \n",
    "    with open(audio.replace(\".wav\", \".normalized.txt\"), \"r\") as f:\n",
    "        for line in f:\n",
    "            transcription = line.replace(\"\\n\", \"\")\n",
    "            break\n",
    "            \n",
    "    ltts[os.path.basename(audio).replace(\".wav\", \"\")] = {\"char\":transcription}"
   ]
  },
  {
   "cell_type": "code",
   "execution_count": 66,
   "id": "17a8f89e",
   "metadata": {},
   "outputs": [
    {
     "name": "stdout",
     "output_type": "stream",
     "text": [
      "6519_69411_000013_000003\n"
     ]
    }
   ],
   "source": [
    "for key in ltts:\n",
    "    print(key)\n",
    "    break"
   ]
  },
  {
   "cell_type": "code",
   "execution_count": 69,
   "id": "138082da",
   "metadata": {},
   "outputs": [
    {
     "data": {
      "text/plain": [
       "'\"There is no \\'but.\\' I said, do you remember?\"'"
      ]
     },
     "execution_count": 69,
     "metadata": {},
     "output_type": "execute_result"
    }
   ],
   "source": [
    "ltts[\"7635_105409_000088_000000\"][\"char\"]"
   ]
  },
  {
   "cell_type": "code",
   "execution_count": 70,
   "id": "f60ec687",
   "metadata": {},
   "outputs": [],
   "source": [
    "import json"
   ]
  },
  {
   "cell_type": "code",
   "execution_count": 72,
   "id": "acb2ee69",
   "metadata": {},
   "outputs": [],
   "source": [
    "with open(\"LibriTTS/libritts.json\", \"w\") as f:\n",
    "    json.dump(ltts, f)"
   ]
  },
  {
   "cell_type": "code",
   "execution_count": null,
   "id": "2578bc0d",
   "metadata": {},
   "outputs": [],
   "source": []
  }
 ],
 "metadata": {
  "kernelspec": {
   "display_name": "AudioLab",
   "language": "python",
   "name": "audiolab"
  },
  "language_info": {
   "codemirror_mode": {
    "name": "ipython",
    "version": 3
   },
   "file_extension": ".py",
   "mimetype": "text/x-python",
   "name": "python",
   "nbconvert_exporter": "python",
   "pygments_lexer": "ipython3",
   "version": "3.8.13"
  }
 },
 "nbformat": 4,
 "nbformat_minor": 5
}
