{
 "cells": [
  {
   "cell_type": "code",
   "execution_count": 32,
   "id": "530596c4",
   "metadata": {},
   "outputs": [],
   "source": [
    "import os\n",
    "import glob\n",
    "import librosa\n",
    "import numpy as np"
   ]
  },
  {
   "cell_type": "code",
   "execution_count": 44,
   "id": "dd82bdc4",
   "metadata": {},
   "outputs": [],
   "source": [
    "all_audios = librosa.util.find_files(\"../../../dataset/LibriTTS/LibriTTS_ORIG\", recurse=True, ext=\"wav\")"
   ]
  },
  {
   "cell_type": "code",
   "execution_count": 41,
   "id": "71c37985",
   "metadata": {},
   "outputs": [],
   "source": [
    "for a in all_audios:\n",
    "    os.system(f\"cp {a} ../../../dataset/LibriTTS/LibriTTS/\")"
   ]
  },
  {
   "cell_type": "code",
   "execution_count": 53,
   "id": "992eafaa",
   "metadata": {},
   "outputs": [],
   "source": [
    "all_audios.sort()\n",
    "np.random.shuffle(all_audios)"
   ]
  },
  {
   "cell_type": "code",
   "execution_count": 56,
   "id": "c4f6b95d",
   "metadata": {
    "scrolled": false
   },
   "outputs": [],
   "source": [
    "test_audios = all_audios[:10000]\n",
    "val_audios = all_audios[10000:15000]\n",
    "train_audios = all_audios[15000:]"
   ]
  },
  {
   "cell_type": "code",
   "execution_count": 74,
   "id": "c9415df5",
   "metadata": {},
   "outputs": [],
   "source": [
    "for a in test_audios:\n",
    "    bname = os.path.basename(a)\n",
    "    oname = f\"../../../dataset/LibriTTS/LibriTTS_16khz/{bname}\"\n",
    "    \n",
    "    os.system(f\"cp {oname} ../../../dataset/LibriTTS/LibriTTS_16khz_test/\")"
   ]
  },
  {
   "cell_type": "code",
   "execution_count": 61,
   "id": "65e5fdcb",
   "metadata": {},
   "outputs": [],
   "source": [
    "w_f = open(\"LibriTTS/hubert/train.txt\", \"w\")\n",
    "\n",
    "for audio in train_audios:\n",
    "    utterance_dict = {}\n",
    "    utterance_dict[\"audio\"] = os.path.basename(audio).replace(\".wav\", \"\")\n",
    "\n",
    "    with open(audio.replace(\".wav\", \".normalized.txt\"), \"r\") as f:\n",
    "        for line in f:\n",
    "            transcription = line.replace(\"\\n\", \"\")\n",
    "            break\n",
    "    with open(audio.replace(\".wav\", \".original.txt\"), \"r\") as f:\n",
    "        for line in f:\n",
    "            transcription_raw = line.replace(\"\\n\", \"\")\n",
    "            break\n",
    "\n",
    "    utterance_dict[\"transcription\"] = transcription\n",
    "    utterance_dict[\"transcription_raw\"] = transcription_raw\n",
    "\n",
    "    w_f.write(str(utterance_dict) + \"\\n\")\n",
    "w_f.close()"
   ]
  },
  {
   "cell_type": "code",
   "execution_count": 62,
   "id": "166ed9e9",
   "metadata": {},
   "outputs": [],
   "source": [
    "w_f = open(\"LibriTTS/hubert/val.txt\", \"w\")\n",
    "\n",
    "for audio in val_audios:\n",
    "    utterance_dict = {}\n",
    "    utterance_dict[\"audio\"] = os.path.basename(audio).replace(\".wav\", \"\")\n",
    "\n",
    "    with open(audio.replace(\".wav\", \".normalized.txt\"), \"r\") as f:\n",
    "        for line in f:\n",
    "            transcription = line.replace(\"\\n\", \"\")\n",
    "            break\n",
    "    with open(audio.replace(\".wav\", \".original.txt\"), \"r\") as f:\n",
    "        for line in f:\n",
    "            transcription_raw = line.replace(\"\\n\", \"\")\n",
    "            break\n",
    "\n",
    "    utterance_dict[\"transcription\"] = transcription\n",
    "    utterance_dict[\"transcription_raw\"] = transcription_raw\n",
    "\n",
    "    w_f.write(str(utterance_dict) + \"\\n\")\n",
    "w_f.close()"
   ]
  },
  {
   "cell_type": "code",
   "execution_count": 63,
   "id": "4d903860",
   "metadata": {},
   "outputs": [],
   "source": [
    "w_f = open(\"LibriTTS/hubert/test.txt\", \"w\")\n",
    "\n",
    "for audio in test_audios:\n",
    "    utterance_dict = {}\n",
    "    utterance_dict[\"audio\"] = os.path.basename(audio).replace(\".wav\", \"\")\n",
    "\n",
    "    with open(audio.replace(\".wav\", \".normalized.txt\"), \"r\") as f:\n",
    "        for line in f:\n",
    "            transcription = line.replace(\"\\n\", \"\")\n",
    "            break\n",
    "    with open(audio.replace(\".wav\", \".original.txt\"), \"r\") as f:\n",
    "        for line in f:\n",
    "            transcription_raw = line.replace(\"\\n\", \"\")\n",
    "            break\n",
    "\n",
    "    utterance_dict[\"transcription\"] = transcription\n",
    "    utterance_dict[\"transcription_raw\"] = transcription_raw\n",
    "\n",
    "    w_f.write(str(utterance_dict) + \"\\n\")\n",
    "w_f.close()"
   ]
  },
  {
   "cell_type": "code",
   "execution_count": 64,
   "id": "2b63982c",
   "metadata": {},
   "outputs": [],
   "source": [
    "ltts = {}\n",
    "\n",
    "for audio in all_audios:\n",
    "    \n",
    "    with open(audio.replace(\".wav\", \".normalized.txt\"), \"r\") as f:\n",
    "        for line in f:\n",
    "            transcription = line.replace(\"\\n\", \"\")\n",
    "            break\n",
    "            \n",
    "    ltts[os.path.basename(audio).replace(\".wav\", \"\")] = {\"char\":transcription}"
   ]
  },
  {
   "cell_type": "code",
   "execution_count": 66,
   "id": "01461aa6",
   "metadata": {},
   "outputs": [
    {
     "name": "stdout",
     "output_type": "stream",
     "text": [
      "6519_69411_000013_000003\n"
     ]
    }
   ],
   "source": [
    "for key in ltts:\n",
    "    print(key)\n",
    "    break"
   ]
  },
  {
   "cell_type": "code",
   "execution_count": 69,
   "id": "06126a38",
   "metadata": {},
   "outputs": [
    {
     "data": {
      "text/plain": [
       "'\"There is no \\'but.\\' I said, do you remember?\"'"
      ]
     },
     "execution_count": 69,
     "metadata": {},
     "output_type": "execute_result"
    }
   ],
   "source": [
    "ltts[\"7635_105409_000088_000000\"][\"char\"]"
   ]
  },
  {
   "cell_type": "code",
   "execution_count": 70,
   "id": "81062f64",
   "metadata": {},
   "outputs": [],
   "source": [
    "import json"
   ]
  },
  {
   "cell_type": "code",
   "execution_count": 72,
   "id": "84988d36",
   "metadata": {},
   "outputs": [],
   "source": [
    "with open(\"LibriTTS/libritts.json\", \"w\") as f:\n",
    "    json.dump(ltts, f)"
   ]
  },
  {
   "cell_type": "code",
   "execution_count": 75,
   "id": "9be55a99",
   "metadata": {},
   "outputs": [],
   "source": [
    "with open(\"LibriTTS/libritts.json\") as f:\n",
    "    ltts = json.load(f)\n",
    "    \n",
    "with open(\"LJSpeech/ljspeech.json\") as f:\n",
    "    lj = json.load(f)"
   ]
  },
  {
   "cell_type": "code",
   "execution_count": 94,
   "id": "e55d2d85",
   "metadata": {},
   "outputs": [],
   "source": [
    "d = \" \"\n",
    "\n",
    "for a in ltts:\n",
    "    for c in ltts[a][\"char\"]:\n",
    "        if c not in d:\n",
    "            d += c\n",
    "            \n",
    "for a in lj:\n",
    "    for c in lj[a][\"char\"]:\n",
    "        if c not in d:\n",
    "            d += c\n",
    "            \n"
   ]
  },
  {
   "cell_type": "code",
   "execution_count": 97,
   "id": "ab213331",
   "metadata": {},
   "outputs": [],
   "source": [
    "d = d[1:]"
   ]
  },
  {
   "cell_type": "code",
   "execution_count": 98,
   "id": "afe52043",
   "metadata": {},
   "outputs": [
    {
     "data": {
      "text/plain": [
       "'Belastoh.\"TfirngwcmpdukC,HyW;?\\'IbSv-M:N!EqPxjzLAJFGDYVOR[()UKXQZ]—æ¯/œêé{}âàüè“”’'"
      ]
     },
     "execution_count": 98,
     "metadata": {},
     "output_type": "execute_result"
    }
   ],
   "source": [
    "d"
   ]
  },
  {
   "cell_type": "code",
   "execution_count": 89,
   "id": "541130b6",
   "metadata": {},
   "outputs": [
    {
     "name": "stdout",
     "output_type": "stream",
     "text": [
      " \n",
      "æ\n",
      "¯\n",
      "œ\n"
     ]
    }
   ],
   "source": [
    "for c in d:\n",
    "    if c not in 'VE\\'LXf?H;IkB.“/!êZpCD]y:M)UTRhw[é,Neio’m—JtPsdgu-lK}üW{vjc”(GzQAbq\"èraxàYFSâOn':\n",
    "        print()"
   ]
  },
  {
   "cell_type": "code",
   "execution_count": 93,
   "id": "96b111db",
   "metadata": {},
   "outputs": [
    {
     "data": {
      "text/plain": [
       "78"
      ]
     },
     "execution_count": 93,
     "metadata": {},
     "output_type": "execute_result"
    }
   ],
   "source": [
    "len('VE\\'LXf?H;IkB.“/!êZpCD]y:M)UTRhw[é,Neio’m—JtPsdgu-lK}üW{vjc”(GzQAbq\"èraxàYFSâOn')"
   ]
  },
  {
   "cell_type": "code",
   "execution_count": null,
   "id": "f1d81619",
   "metadata": {},
   "outputs": [],
   "source": []
  }
 ],
 "metadata": {
  "kernelspec": {
   "display_name": "AudioLab",
   "language": "python",
   "name": "audiolab"
  },
  "language_info": {
   "codemirror_mode": {
    "name": "ipython",
    "version": 3
   },
   "file_extension": ".py",
   "mimetype": "text/x-python",
   "name": "python",
   "nbconvert_exporter": "python",
   "pygments_lexer": "ipython3",
   "version": "3.8.13"
  }
 },
 "nbformat": 4,
 "nbformat_minor": 5
}
