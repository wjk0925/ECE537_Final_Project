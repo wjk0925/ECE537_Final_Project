{
 "cells": [
  {
   "cell_type": "code",
   "execution_count": 1,
   "id": "b5f665ae-3b02-4997-aee8-0f03766d8461",
   "metadata": {},
   "outputs": [],
   "source": [
    "from os.path import basename, dirname"
   ]
  },
  {
   "cell_type": "code",
   "execution_count": 4,
   "id": "95a36d88-2fab-4b94-877e-232abc569588",
   "metadata": {},
   "outputs": [
    {
     "name": "stdout",
     "output_type": "stream",
     "text": [
      "The autoreload extension is already loaded. To reload it, use:\n",
      "  %reload_ext autoreload\n"
     ]
    }
   ],
   "source": [
    "%load_ext autoreload\n",
    "%autoreload 2\n",
    "\n",
    "from dataset import Text2UnitDataset"
   ]
  },
  {
   "cell_type": "code",
   "execution_count": 5,
   "id": "11d1343d-cab4-48b3-a97c-b197e9485349",
   "metadata": {},
   "outputs": [],
   "source": [
    "vocab_size=200\n",
    "exp_dir=f\"t2u_outputs/hubert200_v2_libritts\"\n",
    "epoch=95\n",
    "test_path=f\"../datasets/LibriTTS_train-clean-100/hubert/test200.txt\"\n",
    "new_name=f\"{epoch}_preds.txt\""
   ]
  },
  {
   "cell_type": "code",
   "execution_count": 6,
   "id": "eb55c080-2d2e-4431-b640-5416907228fa",
   "metadata": {},
   "outputs": [],
   "source": [
    "dataset = Text2UnitDataset(test_path, \"hubert\", split=\"test\", max_in_len=200, min_in_len=20, max_out_len=512)"
   ]
  },
  {
   "cell_type": "code",
   "execution_count": 7,
   "id": "23d4d823-c131-4358-b1c9-e8b721f3a88c",
   "metadata": {},
   "outputs": [],
   "source": [
    "w_f = open(f\"{exp_dir}/{new_name}\", \"w\")\n",
    "with open(f\"{exp_dir}/{epoch}_preds.km\", \"r\") as f:\n",
    "    for i, line in enumerate(f):\n",
    "        utterance_dict = dataset.data_dict[i].copy()\n",
    "        utterance_dict[\"hubert\"] = line.split(\"|\")[1].replace(\"\\n\", \"\")\n",
    "        w_f.write(str(utterance_dict) + \"\\n\")\n",
    "w_f.close()"
   ]
  },
  {
   "cell_type": "code",
   "execution_count": 10,
   "id": "37dee354-aa7c-4aad-aa4b-b8036e4b5b84",
   "metadata": {},
   "outputs": [],
   "source": [
    "with open(\"t2u_outputs/hubert200_v2_libritts/95_preds.km\", \"r\") as f:\n",
    "    for i, line in enumerate(f):\n",
    "        pass"
   ]
  },
  {
   "cell_type": "code",
   "execution_count": 11,
   "id": "18f2c2c7",
   "metadata": {},
   "outputs": [
    {
     "data": {
      "text/plain": [
       "943"
      ]
     },
     "execution_count": 11,
     "metadata": {},
     "output_type": "execute_result"
    }
   ],
   "source": [
    "i"
   ]
  },
  {
   "cell_type": "code",
   "execution_count": null,
   "id": "15e4d34e",
   "metadata": {},
   "outputs": [],
   "source": []
  }
 ],
 "metadata": {
  "kernelspec": {
   "display_name": "AudioLab",
   "language": "python",
   "name": "audiolab"
  },
  "language_info": {
   "codemirror_mode": {
    "name": "ipython",
    "version": 3
   },
   "file_extension": ".py",
   "mimetype": "text/x-python",
   "name": "python",
   "nbconvert_exporter": "python",
   "pygments_lexer": "ipython3",
   "version": "3.8.13"
  }
 },
 "nbformat": 4,
 "nbformat_minor": 5
}
