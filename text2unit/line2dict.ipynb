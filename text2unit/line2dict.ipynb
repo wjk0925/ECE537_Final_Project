{
 "cells": [
  {
   "cell_type": "code",
   "execution_count": 1,
   "id": "b5f665ae-3b02-4997-aee8-0f03766d8461",
   "metadata": {},
   "outputs": [],
   "source": [
    "from os.path import basename, dirname"
   ]
  },
  {
   "cell_type": "code",
   "execution_count": 2,
   "id": "95a36d88-2fab-4b94-877e-232abc569588",
   "metadata": {},
   "outputs": [],
   "source": [
    "%load_ext autoreload\n",
    "%autoreload 2\n",
    "\n",
    "from dataset import Text2UnitDataset"
   ]
  },
  {
   "cell_type": "code",
   "execution_count": 4,
   "id": "11d1343d-cab4-48b3-a97c-b197e9485349",
   "metadata": {},
   "outputs": [],
   "source": [
    "vocab_size=200\n",
    "exp_dir=f\"t2u_outputs/hubert200_libritts_emb512_heads8_layers6_batch32_warm8000\"\n",
    "epoch=205\n",
    "test_path=f\"../datasets/LibriTTS_train-clean-100/hubert/test200.txt\"\n",
    "old_name=\"ljspeech_205.km\"\n",
    "new_name=\"ljspeech_205.txt\""
   ]
  },
  {
   "cell_type": "code",
   "execution_count": 5,
   "id": "eb55c080-2d2e-4431-b640-5416907228fa",
   "metadata": {},
   "outputs": [],
   "source": [
    "dataset = Text2UnitDataset(test_path, \"hubert\", split=\"test\", max_in_len=256, min_in_len=15, max_out_len=512)"
   ]
  },
  {
   "cell_type": "code",
   "execution_count": 6,
   "id": "23d4d823-c131-4358-b1c9-e8b721f3a88c",
   "metadata": {},
   "outputs": [],
   "source": [
    "w_f = open(f\"{exp_dir}/{new_name}\", \"w\")\n",
    "with open(f\"{exp_dir}/{old_name}\", \"r\") as f:\n",
    "    for i, line in enumerate(f):\n",
    "        utterance_dict = dataset.data_dict[i].copy()\n",
    "        utterance_dict[\"hubert\"] = line.split(\"|\")[1].replace(\"\\n\", \"\")\n",
    "        w_f.write(str(utterance_dict) + \"\\n\")\n",
    "w_f.close()"
   ]
  },
  {
   "cell_type": "code",
   "execution_count": 8,
   "id": "37dee354-aa7c-4aad-aa4b-b8036e4b5b84",
   "metadata": {},
   "outputs": [
    {
     "name": "stdout",
     "output_type": "stream",
     "text": [
      "959\n",
      "959\n"
     ]
    }
   ],
   "source": [
    "with open(f\"{exp_dir}/{new_name}\", \"r\") as f:\n",
    "    for i, line in enumerate(f):\n",
    "        pass\n",
    "    \n",
    "print(i)\n",
    "\n",
    "with open(f\"{exp_dir}/{old_name}\", \"r\") as f:\n",
    "    for i, line in enumerate(f):\n",
    "        pass\n",
    "    \n",
    "print(i)"
   ]
  },
  {
   "cell_type": "code",
   "execution_count": 11,
   "id": "7aca295c",
   "metadata": {},
   "outputs": [
    {
     "data": {
      "text/plain": [
       "943"
      ]
     },
     "execution_count": 11,
     "metadata": {},
     "output_type": "execute_result"
    }
   ],
   "source": [
    "i"
   ]
  },
  {
   "cell_type": "code",
   "execution_count": 27,
   "id": "46a8902f",
   "metadata": {},
   "outputs": [],
   "source": [
    "s = '14 14 145 108 184 28 16 52 52 83 140 140 140 70 70 66 89 31 100 100 100 13 156 73 144 144 198 12 12 13 85 89 146 146 178 169 105 105 105 148 148 148 148 148 148 148 148 26 26 35 35 35 185 185 129 129 68 36 36 86 86 92 94'\n",
    "\n"
   ]
  },
  {
   "cell_type": "code",
   "execution_count": 28,
   "id": "c0a26a24",
   "metadata": {},
   "outputs": [
    {
     "data": {
      "text/plain": [
       "1.26"
      ]
     },
     "execution_count": 28,
     "metadata": {},
     "output_type": "execute_result"
    }
   ],
   "source": [
    "len(s.split(\" \")) / 50"
   ]
  },
  {
   "cell_type": "code",
   "execution_count": 29,
   "id": "0bd4e7ff",
   "metadata": {},
   "outputs": [],
   "source": [
    "import soundfile as sf"
   ]
  },
  {
   "cell_type": "code",
   "execution_count": 30,
   "id": "24ed6533",
   "metadata": {},
   "outputs": [],
   "source": [
    "audio,sr = sf.read(\"../../95_preds_hifigan/696_93314_000012_000001_gen.wav\")"
   ]
  },
  {
   "cell_type": "code",
   "execution_count": 31,
   "id": "07bc3bb5",
   "metadata": {},
   "outputs": [
    {
     "data": {
      "text/plain": [
       "1.14"
      ]
     },
     "execution_count": 31,
     "metadata": {},
     "output_type": "execute_result"
    }
   ],
   "source": [
    "len(audio) / sr"
   ]
  },
  {
   "cell_type": "code",
   "execution_count": null,
   "id": "fdd98a28",
   "metadata": {},
   "outputs": [],
   "source": []
  }
 ],
 "metadata": {
  "kernelspec": {
   "display_name": "AudioLab",
   "language": "python",
   "name": "audiolab"
  },
  "language_info": {
   "codemirror_mode": {
    "name": "ipython",
    "version": 3
   },
   "file_extension": ".py",
   "mimetype": "text/x-python",
   "name": "python",
   "nbconvert_exporter": "python",
   "pygments_lexer": "ipython3",
   "version": "3.8.13"
  }
 },
 "nbformat": 4,
 "nbformat_minor": 5
}
