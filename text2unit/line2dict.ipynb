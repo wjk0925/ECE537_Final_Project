{
 "cells": [
  {
   "cell_type": "code",
   "execution_count": 1,
   "id": "b5f665ae-3b02-4997-aee8-0f03766d8461",
   "metadata": {},
   "outputs": [],
   "source": [
    "from os.path import basename, dirname"
   ]
  },
  {
   "cell_type": "code",
   "execution_count": 2,
   "id": "95a36d88-2fab-4b94-877e-232abc569588",
   "metadata": {},
   "outputs": [],
   "source": [
    "%load_ext autoreload\n",
    "%autoreload 2\n",
    "\n",
    "from dataset import Text2UnitDataset"
   ]
  },
  {
   "cell_type": "code",
   "execution_count": 13,
   "id": "11d1343d-cab4-48b3-a97c-b197e9485349",
   "metadata": {},
   "outputs": [],
   "source": [
    "vocab_size=200\n",
    "exp_dir=\"t2u_outputs/hubert200_ljspeech\"\n",
    "epoch=290\n",
    "test_path=\"../datasets/LJSpeech/hubert/test200.txt\"\n",
    "old_name=\"ljspeech_265.km\"\n",
    "new_name=\"ljspeech_265.txt\""
   ]
  },
  {
   "cell_type": "code",
   "execution_count": 14,
   "id": "eb55c080-2d2e-4431-b640-5416907228fa",
   "metadata": {},
   "outputs": [],
   "source": [
    "dataset = Text2UnitDataset(test_path, \"hubert\", split=\"testl\", max_in_len=256, min_in_len=10, max_out_len=512)"
   ]
  },
  {
   "cell_type": "code",
   "execution_count": 15,
   "id": "b30a4da6",
   "metadata": {},
   "outputs": [
    {
     "data": {
      "text/plain": [
       "600"
      ]
     },
     "execution_count": 15,
     "metadata": {},
     "output_type": "execute_result"
    }
   ],
   "source": [
    "len(dataset)"
   ]
  },
  {
   "cell_type": "code",
   "execution_count": 16,
   "id": "23d4d823-c131-4358-b1c9-e8b721f3a88c",
   "metadata": {},
   "outputs": [],
   "source": [
    "w_f = open(f\"{exp_dir}/{new_name}\", \"w\")\n",
    "with open(f\"{exp_dir}/{old_name}\", \"r\") as f:\n",
    "    for i, line in enumerate(f):\n",
    "        if i < len(dataset):\n",
    "            utterance_dict = dataset.data_dict[i].copy()\n",
    "            utterance_dict[\"hubert\"] = line.split(\"|\")[1].replace(\"\\n\", \"\")\n",
    "            w_f.write(str(utterance_dict) + \"\\n\")\n",
    "w_f.close()"
   ]
  },
  {
   "cell_type": "code",
   "execution_count": 17,
   "id": "37dee354-aa7c-4aad-aa4b-b8036e4b5b84",
   "metadata": {},
   "outputs": [
    {
     "name": "stdout",
     "output_type": "stream",
     "text": [
      "599\n",
      "600\n"
     ]
    }
   ],
   "source": [
    "with open(f\"{exp_dir}/{new_name}\", \"r\") as f:\n",
    "    for i, line in enumerate(f):\n",
    "        pass\n",
    "    \n",
    "print(i)\n",
    "\n",
    "with open(f\"{exp_dir}/{old_name}\", \"r\") as f:\n",
    "    for i, line in enumerate(f):\n",
    "        pass\n",
    "    \n",
    "print(i)"
   ]
  },
  {
   "cell_type": "code",
   "execution_count": 3,
   "id": "7aca295c",
   "metadata": {},
   "outputs": [],
   "source": [
    "vocab_size=200\n",
    "split = \"val\"\n",
    "train_dataset = \"ljspeech\"\n",
    "test_dataset = \"ljspeech\"\n",
    "exp_dir=f\"t2u_outputs/hubert200_ljspeech\"\n",
    "test_path=[\"../datasets/LJSpeech/hubert/val200.txt\"]"
   ]
  },
  {
   "cell_type": "code",
   "execution_count": 4,
   "id": "8f3d2a8a",
   "metadata": {},
   "outputs": [
    {
     "name": "stdout",
     "output_type": "stream",
     "text": [
      "300\n",
      "299\n",
      "300\n",
      "299\n",
      "300\n",
      "299\n",
      "300\n",
      "299\n",
      "300\n",
      "299\n",
      "300\n",
      "299\n",
      "300\n",
      "299\n",
      "300\n",
      "299\n",
      "300\n",
      "299\n",
      "300\n",
      "299\n",
      "300\n",
      "299\n",
      "300\n",
      "299\n",
      "300\n",
      "299\n",
      "300\n",
      "299\n",
      "300\n",
      "299\n",
      "300\n",
      "299\n",
      "300\n",
      "299\n",
      "300\n",
      "299\n",
      "300\n",
      "299\n",
      "300\n",
      "299\n",
      "300\n",
      "299\n",
      "300\n",
      "299\n",
      "300\n",
      "299\n",
      "300\n",
      "299\n",
      "300\n",
      "299\n",
      "300\n",
      "299\n",
      "300\n",
      "299\n",
      "300\n",
      "299\n",
      "300\n",
      "299\n",
      "300\n",
      "299\n",
      "300\n",
      "299\n",
      "300\n",
      "299\n",
      "300\n",
      "299\n",
      "300\n",
      "299\n",
      "300\n",
      "299\n",
      "300\n",
      "299\n",
      "300\n",
      "299\n",
      "300\n",
      "299\n",
      "300\n",
      "299\n",
      "300\n",
      "299\n",
      "300\n",
      "299\n",
      "300\n",
      "299\n",
      "300\n",
      "299\n",
      "300\n",
      "299\n",
      "300\n",
      "299\n",
      "300\n",
      "299\n",
      "300\n",
      "299\n",
      "300\n",
      "299\n",
      "300\n",
      "299\n",
      "300\n",
      "299\n",
      "300\n",
      "299\n",
      "300\n",
      "299\n",
      "300\n",
      "299\n",
      "300\n",
      "299\n",
      "300\n",
      "299\n",
      "300\n",
      "299\n",
      "300\n",
      "299\n",
      "300\n",
      "299\n",
      "300\n",
      "299\n",
      "300\n",
      "299\n",
      "300\n"
     ]
    }
   ],
   "source": [
    "dataset = Text2UnitDataset(test_path, \"hubert\", split=split, max_in_len=200, min_in_len=15, max_out_len=512)\n",
    "\n",
    "print(len(dataset))\n",
    "\n",
    "for epoch in range(0, 300, 5):\n",
    "    old_name=f\"val_{epoch}.km\"\n",
    "    new_name=f\"val_{epoch}.txt\"\n",
    "    \n",
    "    w_f = open(f\"{exp_dir}/{new_name}\", \"w\")\n",
    "    with open(f\"{exp_dir}/{old_name}\", \"r\") as f:\n",
    "        for i, line in enumerate(f):\n",
    "            if i < len(dataset):\n",
    "                utterance_dict = dataset.data_dict[i].copy()\n",
    "                utterance_dict[\"hubert\"] = line.split(\"|\")[1].replace(\"\\n\", \"\")\n",
    "                w_f.write(str(utterance_dict) + \"\\n\")\n",
    "    w_f.close()\n",
    "    \n",
    "    with open(f\"{exp_dir}/{new_name}\", \"r\") as f:\n",
    "        for i, line in enumerate(f):\n",
    "            pass\n",
    "\n",
    "    print(i)\n",
    "\n",
    "    with open(f\"{exp_dir}/{old_name}\", \"r\") as f:\n",
    "        for i, line in enumerate(f):\n",
    "            pass\n",
    "\n",
    "    print(i)"
   ]
  },
  {
   "cell_type": "code",
   "execution_count": null,
   "id": "fdd98a28",
   "metadata": {},
   "outputs": [],
   "source": []
  }
 ],
 "metadata": {
  "kernelspec": {
   "display_name": "AudioLab",
   "language": "python",
   "name": "audiolab"
  },
  "language_info": {
   "codemirror_mode": {
    "name": "ipython",
    "version": 3
   },
   "file_extension": ".py",
   "mimetype": "text/x-python",
   "name": "python",
   "nbconvert_exporter": "python",
   "pygments_lexer": "ipython3",
   "version": "3.8.13"
  }
 },
 "nbformat": 4,
 "nbformat_minor": 5
}
